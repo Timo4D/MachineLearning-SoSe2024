{
 "cells": [
  {
   "cell_type": "code",
   "id": "initial_id",
   "metadata": {
    "collapsed": true,
    "ExecuteTime": {
     "end_time": "2024-06-26T13:51:22.518984Z",
     "start_time": "2024-06-26T13:51:22.517111Z"
    }
   },
   "source": [
    "import pandas as pd\n",
    "import numpy as np\n",
    "import matplotlib.pyplot as plt\n",
    "import sklearn"
   ],
   "outputs": [],
   "execution_count": 29
  },
  {
   "metadata": {},
   "cell_type": "markdown",
   "source": [
    "# Load the data\n",
    "Followed by the data exploration"
   ],
   "id": "39e296e3137e11b9"
  },
  {
   "metadata": {
    "ExecuteTime": {
     "end_time": "2024-06-26T13:51:22.551944Z",
     "start_time": "2024-06-26T13:51:22.522003Z"
    }
   },
   "cell_type": "code",
   "source": [
    "data = pd.read_csv('diabetes.csv')\n",
    "print(data.shape)"
   ],
   "id": "b2c72a229f5314fa",
   "outputs": [
    {
     "name": "stdout",
     "output_type": "stream",
     "text": [
      "(768, 9)\n"
     ]
    }
   ],
   "execution_count": 30
  },
  {
   "metadata": {
    "ExecuteTime": {
     "end_time": "2024-06-26T13:51:22.581548Z",
     "start_time": "2024-06-26T13:51:22.553123Z"
    }
   },
   "cell_type": "code",
   "source": "data.head()",
   "id": "f5ff36315822d4fa",
   "outputs": [
    {
     "data": {
      "text/plain": [
       "   Pregnancies  Glucose  BloodPressure  SkinThickness  Insulin   BMI  \\\n",
       "0            6      148             72             35        0  33.6   \n",
       "1            1       85             66             29        0  26.6   \n",
       "2            8      183             64              0        0  23.3   \n",
       "3            1       89             66             23       94  28.1   \n",
       "4            0      137             40             35      168  43.1   \n",
       "\n",
       "   DiabetesPedigreeFunction  Age  Outcome  \n",
       "0                     0.627   50        1  \n",
       "1                     0.351   31        0  \n",
       "2                     0.672   32        1  \n",
       "3                     0.167   21        0  \n",
       "4                     2.288   33        1  "
      ],
      "text/html": [
       "<div>\n",
       "<style scoped>\n",
       "    .dataframe tbody tr th:only-of-type {\n",
       "        vertical-align: middle;\n",
       "    }\n",
       "\n",
       "    .dataframe tbody tr th {\n",
       "        vertical-align: top;\n",
       "    }\n",
       "\n",
       "    .dataframe thead th {\n",
       "        text-align: right;\n",
       "    }\n",
       "</style>\n",
       "<table border=\"1\" class=\"dataframe\">\n",
       "  <thead>\n",
       "    <tr style=\"text-align: right;\">\n",
       "      <th></th>\n",
       "      <th>Pregnancies</th>\n",
       "      <th>Glucose</th>\n",
       "      <th>BloodPressure</th>\n",
       "      <th>SkinThickness</th>\n",
       "      <th>Insulin</th>\n",
       "      <th>BMI</th>\n",
       "      <th>DiabetesPedigreeFunction</th>\n",
       "      <th>Age</th>\n",
       "      <th>Outcome</th>\n",
       "    </tr>\n",
       "  </thead>\n",
       "  <tbody>\n",
       "    <tr>\n",
       "      <th>0</th>\n",
       "      <td>6</td>\n",
       "      <td>148</td>\n",
       "      <td>72</td>\n",
       "      <td>35</td>\n",
       "      <td>0</td>\n",
       "      <td>33.6</td>\n",
       "      <td>0.627</td>\n",
       "      <td>50</td>\n",
       "      <td>1</td>\n",
       "    </tr>\n",
       "    <tr>\n",
       "      <th>1</th>\n",
       "      <td>1</td>\n",
       "      <td>85</td>\n",
       "      <td>66</td>\n",
       "      <td>29</td>\n",
       "      <td>0</td>\n",
       "      <td>26.6</td>\n",
       "      <td>0.351</td>\n",
       "      <td>31</td>\n",
       "      <td>0</td>\n",
       "    </tr>\n",
       "    <tr>\n",
       "      <th>2</th>\n",
       "      <td>8</td>\n",
       "      <td>183</td>\n",
       "      <td>64</td>\n",
       "      <td>0</td>\n",
       "      <td>0</td>\n",
       "      <td>23.3</td>\n",
       "      <td>0.672</td>\n",
       "      <td>32</td>\n",
       "      <td>1</td>\n",
       "    </tr>\n",
       "    <tr>\n",
       "      <th>3</th>\n",
       "      <td>1</td>\n",
       "      <td>89</td>\n",
       "      <td>66</td>\n",
       "      <td>23</td>\n",
       "      <td>94</td>\n",
       "      <td>28.1</td>\n",
       "      <td>0.167</td>\n",
       "      <td>21</td>\n",
       "      <td>0</td>\n",
       "    </tr>\n",
       "    <tr>\n",
       "      <th>4</th>\n",
       "      <td>0</td>\n",
       "      <td>137</td>\n",
       "      <td>40</td>\n",
       "      <td>35</td>\n",
       "      <td>168</td>\n",
       "      <td>43.1</td>\n",
       "      <td>2.288</td>\n",
       "      <td>33</td>\n",
       "      <td>1</td>\n",
       "    </tr>\n",
       "  </tbody>\n",
       "</table>\n",
       "</div>"
      ]
     },
     "execution_count": 31,
     "metadata": {},
     "output_type": "execute_result"
    }
   ],
   "execution_count": 31
  },
  {
   "metadata": {
    "ExecuteTime": {
     "end_time": "2024-06-26T13:51:22.619214Z",
     "start_time": "2024-06-26T13:51:22.582631Z"
    }
   },
   "cell_type": "code",
   "source": "data.describe()",
   "id": "1c0adf5730490125",
   "outputs": [
    {
     "data": {
      "text/plain": [
       "       Pregnancies     Glucose  BloodPressure  SkinThickness     Insulin  \\\n",
       "count   768.000000  768.000000     768.000000     768.000000  768.000000   \n",
       "mean      3.845052  120.894531      69.105469      20.536458   79.799479   \n",
       "std       3.369578   31.972618      19.355807      15.952218  115.244002   \n",
       "min       0.000000    0.000000       0.000000       0.000000    0.000000   \n",
       "25%       1.000000   99.000000      62.000000       0.000000    0.000000   \n",
       "50%       3.000000  117.000000      72.000000      23.000000   30.500000   \n",
       "75%       6.000000  140.250000      80.000000      32.000000  127.250000   \n",
       "max      17.000000  199.000000     122.000000      99.000000  846.000000   \n",
       "\n",
       "              BMI  DiabetesPedigreeFunction         Age     Outcome  \n",
       "count  768.000000                768.000000  768.000000  768.000000  \n",
       "mean    31.992578                  0.471876   33.240885    0.348958  \n",
       "std      7.884160                  0.331329   11.760232    0.476951  \n",
       "min      0.000000                  0.078000   21.000000    0.000000  \n",
       "25%     27.300000                  0.243750   24.000000    0.000000  \n",
       "50%     32.000000                  0.372500   29.000000    0.000000  \n",
       "75%     36.600000                  0.626250   41.000000    1.000000  \n",
       "max     67.100000                  2.420000   81.000000    1.000000  "
      ],
      "text/html": [
       "<div>\n",
       "<style scoped>\n",
       "    .dataframe tbody tr th:only-of-type {\n",
       "        vertical-align: middle;\n",
       "    }\n",
       "\n",
       "    .dataframe tbody tr th {\n",
       "        vertical-align: top;\n",
       "    }\n",
       "\n",
       "    .dataframe thead th {\n",
       "        text-align: right;\n",
       "    }\n",
       "</style>\n",
       "<table border=\"1\" class=\"dataframe\">\n",
       "  <thead>\n",
       "    <tr style=\"text-align: right;\">\n",
       "      <th></th>\n",
       "      <th>Pregnancies</th>\n",
       "      <th>Glucose</th>\n",
       "      <th>BloodPressure</th>\n",
       "      <th>SkinThickness</th>\n",
       "      <th>Insulin</th>\n",
       "      <th>BMI</th>\n",
       "      <th>DiabetesPedigreeFunction</th>\n",
       "      <th>Age</th>\n",
       "      <th>Outcome</th>\n",
       "    </tr>\n",
       "  </thead>\n",
       "  <tbody>\n",
       "    <tr>\n",
       "      <th>count</th>\n",
       "      <td>768.000000</td>\n",
       "      <td>768.000000</td>\n",
       "      <td>768.000000</td>\n",
       "      <td>768.000000</td>\n",
       "      <td>768.000000</td>\n",
       "      <td>768.000000</td>\n",
       "      <td>768.000000</td>\n",
       "      <td>768.000000</td>\n",
       "      <td>768.000000</td>\n",
       "    </tr>\n",
       "    <tr>\n",
       "      <th>mean</th>\n",
       "      <td>3.845052</td>\n",
       "      <td>120.894531</td>\n",
       "      <td>69.105469</td>\n",
       "      <td>20.536458</td>\n",
       "      <td>79.799479</td>\n",
       "      <td>31.992578</td>\n",
       "      <td>0.471876</td>\n",
       "      <td>33.240885</td>\n",
       "      <td>0.348958</td>\n",
       "    </tr>\n",
       "    <tr>\n",
       "      <th>std</th>\n",
       "      <td>3.369578</td>\n",
       "      <td>31.972618</td>\n",
       "      <td>19.355807</td>\n",
       "      <td>15.952218</td>\n",
       "      <td>115.244002</td>\n",
       "      <td>7.884160</td>\n",
       "      <td>0.331329</td>\n",
       "      <td>11.760232</td>\n",
       "      <td>0.476951</td>\n",
       "    </tr>\n",
       "    <tr>\n",
       "      <th>min</th>\n",
       "      <td>0.000000</td>\n",
       "      <td>0.000000</td>\n",
       "      <td>0.000000</td>\n",
       "      <td>0.000000</td>\n",
       "      <td>0.000000</td>\n",
       "      <td>0.000000</td>\n",
       "      <td>0.078000</td>\n",
       "      <td>21.000000</td>\n",
       "      <td>0.000000</td>\n",
       "    </tr>\n",
       "    <tr>\n",
       "      <th>25%</th>\n",
       "      <td>1.000000</td>\n",
       "      <td>99.000000</td>\n",
       "      <td>62.000000</td>\n",
       "      <td>0.000000</td>\n",
       "      <td>0.000000</td>\n",
       "      <td>27.300000</td>\n",
       "      <td>0.243750</td>\n",
       "      <td>24.000000</td>\n",
       "      <td>0.000000</td>\n",
       "    </tr>\n",
       "    <tr>\n",
       "      <th>50%</th>\n",
       "      <td>3.000000</td>\n",
       "      <td>117.000000</td>\n",
       "      <td>72.000000</td>\n",
       "      <td>23.000000</td>\n",
       "      <td>30.500000</td>\n",
       "      <td>32.000000</td>\n",
       "      <td>0.372500</td>\n",
       "      <td>29.000000</td>\n",
       "      <td>0.000000</td>\n",
       "    </tr>\n",
       "    <tr>\n",
       "      <th>75%</th>\n",
       "      <td>6.000000</td>\n",
       "      <td>140.250000</td>\n",
       "      <td>80.000000</td>\n",
       "      <td>32.000000</td>\n",
       "      <td>127.250000</td>\n",
       "      <td>36.600000</td>\n",
       "      <td>0.626250</td>\n",
       "      <td>41.000000</td>\n",
       "      <td>1.000000</td>\n",
       "    </tr>\n",
       "    <tr>\n",
       "      <th>max</th>\n",
       "      <td>17.000000</td>\n",
       "      <td>199.000000</td>\n",
       "      <td>122.000000</td>\n",
       "      <td>99.000000</td>\n",
       "      <td>846.000000</td>\n",
       "      <td>67.100000</td>\n",
       "      <td>2.420000</td>\n",
       "      <td>81.000000</td>\n",
       "      <td>1.000000</td>\n",
       "    </tr>\n",
       "  </tbody>\n",
       "</table>\n",
       "</div>"
      ]
     },
     "execution_count": 32,
     "metadata": {},
     "output_type": "execute_result"
    }
   ],
   "execution_count": 32
  },
  {
   "metadata": {},
   "cell_type": "markdown",
   "source": [
    "# Notes on the data\n",
    "- There are some features with zero values that are not possible (e.g. BMI, blood pressure, etc.)\n",
    "- 35% out of the 768 patients have diabetes\n",
    "- The data is not normalized"
   ],
   "id": "2db131b8695771e3"
  },
  {
   "metadata": {
    "ExecuteTime": {
     "end_time": "2024-06-26T13:51:59.030294Z",
     "start_time": "2024-06-26T13:51:58.939991Z"
    }
   },
   "cell_type": "code",
   "source": [
    "plt.figure()\n",
    "\n",
    "plt.scatter(data[data['Outcome'] == 1]['Glucose'], data[data['Outcome'] == 1]['BloodPressure'],\n",
    "            color='red', label='Outcome 1')\n",
    "\n",
    "plt.scatter(data[data['Outcome'] == 0]['Glucose'], data[data['Outcome'] == 0]['BloodPressure'],\n",
    "            color='blue', label='Outcome 0')\n",
    "\n",
    "plt.xlabel('Glucose')\n",
    "plt.ylabel('Blood Pressure')\n",
    "plt.title('Scatter plot of Glucose vs Blood Pressure')\n",
    "plt.legend()\n",
    "\n",
    "plt.show()\n"
   ],
   "id": "a6140478fff07f1",
   "outputs": [
    {
     "data": {
      "text/plain": [
       "<Figure size 640x480 with 1 Axes>"
      ],
      "image/png": "[encoded data removed]"
     },
     "metadata": {},
     "output_type": "display_data"
    }
   ],
   "execution_count": 34
  },
  {
   "metadata": {},
   "cell_type": "markdown",
   "source": [
    "# Creating a first simple Model\n",
    "Here we will create a simple model using a Decision Tree Classifier\n",
    "With no preprocessing of the data, no feature selection, etc.\n",
    "Also not setting a max_depth for the tree, so it will overfit the data"
   ],
   "id": "5418741a5f3947d4"
  },
  {
   "metadata": {
    "ExecuteTime": {
     "end_time": "2024-06-26T16:11:33.373412Z",
     "start_time": "2024-06-26T16:11:33.366311Z"
    }
   },
   "cell_type": "code",
   "source": [
    "from sklearn.tree import DecisionTreeClassifier\n",
    "from sklearn.model_selection import train_test_split\n",
    "\n",
    "X_train, X_test, y_train, y_test = train_test_split(data.drop('Outcome', axis=1), data['Outcome'], test_size=0.2)\n",
    "tree = DecisionTreeClassifier()\n",
    "tree.fit(X_train, y_train)\n",
    "print(\"Accuracy on training set: {:.3f}\".format(tree.score(X_train, y_train)))\n",
    "print(\"Accuracy on test set: {:.3f}\".format(tree.score(X_test, y_test)))"
   ],
   "id": "6e62cdc01ec1aede",
   "outputs": [
    {
     "name": "stdout",
     "output_type": "stream",
     "text": [
      "Accuracy on training set: 1.000\n",
      "Accuracy on test set: 0.701\n"
     ]
    }
   ],
   "execution_count": 38
  },
  {
   "metadata": {},
   "cell_type": "markdown",
   "source": [
    "# Limiting the Depth of the Model\n",
    "experimentation with different depths"
   ],
   "id": "b23ad7733fb8e341"
  },
  {
   "metadata": {
    "ExecuteTime": {
     "end_time": "2024-06-26T16:12:21.789602Z",
     "start_time": "2024-06-26T16:12:21.784083Z"
    }
   },
   "cell_type": "code",
   "source": [
    "tree = DecisionTreeClassifier(max_depth=2)\n",
    "tree.fit(X_train, y_train)\n",
    "print(\"Accuracy on training set: {:.3f}\".format(tree.score(X_train, y_train)))\n",
    "print(\"Accuracy on test set: {:.3f}\".format(tree.score(X_test, y_test)))"
   ],
   "id": "9867aa37a58fe0fb",
   "outputs": [
    {
     "name": "stdout",
     "output_type": "stream",
     "text": [
      "Accuracy on training set: 0.777\n",
      "Accuracy on test set: 0.747\n"
     ]
    }
   ],
   "execution_count": 39
  },
  {
   "metadata": {
    "ExecuteTime": {
     "end_time": "2024-06-26T16:15:01.043542Z",
     "start_time": "2024-06-26T16:15:01.038758Z"
    }
   },
   "cell_type": "code",
   "source": [
    "tree = DecisionTreeClassifier(max_depth=3)\n",
    "tree.fit(X_train, y_train)\n",
    "print(\"Accuracy on training set: {:.3f}\".format(tree.score(X_train, y_train)))\n",
    "print(\"Accuracy on test set: {:.3f}\".format(tree.score(X_test, y_test)))"
   ],
   "id": "8d0599096ba31e64",
   "outputs": [
    {
     "name": "stdout",
     "output_type": "stream",
     "text": [
      "Accuracy on training set: 0.777\n",
      "Accuracy on test set: 0.747\n"
     ]
    }
   ],
   "execution_count": 51
  },
  {
   "metadata": {
    "ExecuteTime": {
     "end_time": "2024-06-26T16:15:40.315504Z",
     "start_time": "2024-06-26T16:15:40.307507Z"
    }
   },
   "cell_type": "code",
   "source": [
    "tree = DecisionTreeClassifier(max_depth=4)\n",
    "tree.fit(X_train, y_train)\n",
    "print(\"Accuracy on training set: {:.3f}\".format(tree.score(X_train, y_train)))\n",
    "print(\"Accuracy on test set: {:.3f}\".format(tree.score(X_test, y_test)))"
   ],
   "id": "1d922eeeba2c08dd",
   "outputs": [
    {
     "name": "stdout",
     "output_type": "stream",
     "text": [
      "Accuracy on training set: 0.809\n",
      "Accuracy on test set: 0.734\n"
     ]
    }
   ],
   "execution_count": 52
  },
  {
   "metadata": {},
   "cell_type": "markdown",
   "source": "The Accuracy on the test set is the same at 2 and 3, starts to decrease at 4.\n",
   "id": "e53cda81549d7ad6"
  },
  {
   "metadata": {
    "ExecuteTime": {
     "end_time": "2024-06-26T16:18:39.655336Z",
     "start_time": "2024-06-26T16:18:39.651201Z"
    }
   },
   "cell_type": "code",
   "source": [
    "from sklearn.tree import export_graphviz\n",
    "export_graphviz(tree, out_file=\"tree.dot\", class_names=[\"0\", \"1\"],\n",
    "                feature_names=data.columns[:-1], impurity=False, filled=True)"
   ],
   "id": "84913df67cef77ef",
   "outputs": [],
   "execution_count": 53
  },
  {
   "metadata": {
    "ExecuteTime": {
     "end_time": "2024-06-26T16:18:58.595058Z",
     "start_time": "2024-06-26T16:18:58.553169Z"
    }
   },
   "cell_type": "code",
   "source": [
    "import graphviz\n",
    "\n",
    "with open(\"tree.dot\") as f:\n",
    "    dot_graph = f.read()\n",
    "graphviz.Source(dot_graph)"
   ],
   "id": "feafb2260efbaf70",
   "outputs": [
    {
     "data": {
      "image/svg+xml": "<?xml version=\"1.0\" encoding=\"UTF-8\" standalone=\"no\"?>\n<!DOCTYPE svg PUBLIC \"-//W3C//DTD SVG 1.1//EN\"\n \"http://www.w3.org/Graphics/SVG/1.1/DTD/svg11.dtd\">\n<!-- Generated by graphviz version 2.50.0 (0)\n -->\n<!-- Title: Tree Pages: 1 -->\n<svg width=\"2235pt\" height=\"477pt\"\n viewBox=\"0.00 0.00 2235.00 477.00\" xmlns=\"http://www.w3.org/2000/svg\" xmlns:xlink=\"http://www.w3.org/1999/xlink\">\n<g id=\"graph0\" class=\"graph\" transform=\"scale(1 1) rotate(0) translate(4 473)\">\n<title>Tree</title>\n<polygon fill=\"white\" stroke=\"transparent\" points=\"-4,4 -4,-473 2231,-473 2231,4 -4,4\"/>\n<!-- 0 -->\n<g id=\"node1\" class=\"node\">\n<title>0</title>\n<polygon fill=\"#f2c19d\" stroke=\"black\" points=\"1224,-469 1075,-469 1075,-401 1224,-401 1224,-469\"/>\n<text text-anchor=\"middle\" x=\"1149.5\" y=\"-453.8\" font-family=\"Helvetica,sans-Serif\" font-size=\"14.00\">Glucose &lt;= 127.5</text>\n<text text-anchor=\"middle\" x=\"1149.5\" y=\"-438.8\" font-family=\"Helvetica,sans-Serif\" font-size=\"14.00\">samples = 614</text>\n<text text-anchor=\"middle\" x=\"1149.5\" y=\"-423.8\" font-family=\"Helvetica,sans-Serif\" font-size=\"14.00\">value = [408, 206]</text>\n<text text-anchor=\"middle\" x=\"1149.5\" y=\"-408.8\" font-family=\"Helvetica,sans-Serif\" font-size=\"14.00\">class = 0</text>\n</g>\n<!-- 1 -->\n<g id=\"node2\" class=\"node\">\n<title>1</title>\n<polygon fill=\"#eb9e67\" stroke=\"black\" points=\"904.5,-365 764.5,-365 764.5,-297 904.5,-297 904.5,-365\"/>\n<text text-anchor=\"middle\" x=\"834.5\" y=\"-349.8\" font-family=\"Helvetica,sans-Serif\" font-size=\"14.00\">Age &lt;= 28.5</text>\n<text text-anchor=\"middle\" x=\"834.5\" y=\"-334.8\" font-family=\"Helvetica,sans-Serif\" font-size=\"14.00\">samples = 395</text>\n<text text-anchor=\"middle\" x=\"834.5\" y=\"-319.8\" font-family=\"Helvetica,sans-Serif\" font-size=\"14.00\">value = [321, 74]</text>\n<text text-anchor=\"middle\" x=\"834.5\" y=\"-304.8\" font-family=\"Helvetica,sans-Serif\" font-size=\"14.00\">class = 0</text>\n</g>\n<!-- 0&#45;&gt;1 -->\n<g id=\"edge1\" class=\"edge\">\n<title>0&#45;&gt;1</title>\n<path fill=\"none\" stroke=\"black\" d=\"M1074.85,-409.83C1026.49,-394.17 963.58,-373.8 914.24,-357.82\"/>\n<polygon fill=\"black\" stroke=\"black\" points=\"915.16,-354.44 904.57,-354.69 913,-361.1 915.16,-354.44\"/>\n<text text-anchor=\"middle\" x=\"915.94\" y=\"-373.25\" font-family=\"Helvetica,sans-Serif\" font-size=\"14.00\">True</text>\n</g>\n<!-- 16 -->\n<g id=\"node17\" class=\"node\">\n<title>16</title>\n<polygon fill=\"#bcdef6\" stroke=\"black\" points=\"1472.5,-365 1332.5,-365 1332.5,-297 1472.5,-297 1472.5,-365\"/>\n<text text-anchor=\"middle\" x=\"1402.5\" y=\"-349.8\" font-family=\"Helvetica,sans-Serif\" font-size=\"14.00\">BMI &lt;= 29.85</text>\n<text text-anchor=\"middle\" x=\"1402.5\" y=\"-334.8\" font-family=\"Helvetica,sans-Serif\" font-size=\"14.00\">samples = 219</text>\n<text text-anchor=\"middle\" x=\"1402.5\" y=\"-319.8\" font-family=\"Helvetica,sans-Serif\" font-size=\"14.00\">value = [87, 132]</text>\n<text text-anchor=\"middle\" x=\"1402.5\" y=\"-304.8\" font-family=\"Helvetica,sans-Serif\" font-size=\"14.00\">class = 1</text>\n</g>\n<!-- 0&#45;&gt;16 -->\n<g id=\"edge16\" class=\"edge\">\n<title>0&#45;&gt;16</title>\n<path fill=\"none\" stroke=\"black\" d=\"M1224.04,-403.95C1255.08,-391.43 1291.18,-376.88 1322.75,-364.15\"/>\n<polygon fill=\"black\" stroke=\"black\" points=\"1324.43,-367.25 1332.39,-360.26 1321.81,-360.76 1324.43,-367.25\"/>\n<text text-anchor=\"middle\" x=\"1322.61\" y=\"-379.57\" font-family=\"Helvetica,sans-Serif\" font-size=\"14.00\">False</text>\n</g>\n<!-- 2 -->\n<g id=\"node3\" class=\"node\">\n<title>2</title>\n<polygon fill=\"#e78b48\" stroke=\"black\" points=\"540.5,-261 400.5,-261 400.5,-193 540.5,-193 540.5,-261\"/>\n<text text-anchor=\"middle\" x=\"470.5\" y=\"-245.8\" font-family=\"Helvetica,sans-Serif\" font-size=\"14.00\">BMI &lt;= 30.95</text>\n<text text-anchor=\"middle\" x=\"470.5\" y=\"-230.8\" font-family=\"Helvetica,sans-Serif\" font-size=\"14.00\">samples = 226</text>\n<text text-anchor=\"middle\" x=\"470.5\" y=\"-215.8\" font-family=\"Helvetica,sans-Serif\" font-size=\"14.00\">value = [210, 16]</text>\n<text text-anchor=\"middle\" x=\"470.5\" y=\"-200.8\" font-family=\"Helvetica,sans-Serif\" font-size=\"14.00\">class = 0</text>\n</g>\n<!-- 1&#45;&gt;2 -->\n<g id=\"edge2\" class=\"edge\">\n<title>1&#45;&gt;2</title>\n<path fill=\"none\" stroke=\"black\" d=\"M764.32,-310.33C703.11,-293.18 614.35,-268.31 550.42,-250.39\"/>\n<polygon fill=\"black\" stroke=\"black\" points=\"551.35,-247.02 540.78,-247.69 549.46,-253.76 551.35,-247.02\"/>\n</g>\n<!-- 9 -->\n<g id=\"node10\" class=\"node\">\n<title>9</title>\n<polygon fill=\"#f3c3a0\" stroke=\"black\" points=\"904.5,-261 764.5,-261 764.5,-193 904.5,-193 904.5,-261\"/>\n<text text-anchor=\"middle\" x=\"834.5\" y=\"-245.8\" font-family=\"Helvetica,sans-Serif\" font-size=\"14.00\">BMI &lt;= 26.35</text>\n<text text-anchor=\"middle\" x=\"834.5\" y=\"-230.8\" font-family=\"Helvetica,sans-Serif\" font-size=\"14.00\">samples = 169</text>\n<text text-anchor=\"middle\" x=\"834.5\" y=\"-215.8\" font-family=\"Helvetica,sans-Serif\" font-size=\"14.00\">value = [111, 58]</text>\n<text text-anchor=\"middle\" x=\"834.5\" y=\"-200.8\" font-family=\"Helvetica,sans-Serif\" font-size=\"14.00\">class = 0</text>\n</g>\n<!-- 1&#45;&gt;9 -->\n<g id=\"edge9\" class=\"edge\">\n<title>1&#45;&gt;9</title>\n<path fill=\"none\" stroke=\"black\" d=\"M834.5,-296.88C834.5,-288.78 834.5,-279.98 834.5,-271.47\"/>\n<polygon fill=\"black\" stroke=\"black\" points=\"838,-271.3 834.5,-261.3 831,-271.3 838,-271.3\"/>\n</g>\n<!-- 3 -->\n<g id=\"node4\" class=\"node\">\n<title>3</title>\n<polygon fill=\"#e5823b\" stroke=\"black\" points=\"345.5,-157 75.5,-157 75.5,-89 345.5,-89 345.5,-157\"/>\n<text text-anchor=\"middle\" x=\"210.5\" y=\"-141.8\" font-family=\"Helvetica,sans-Serif\" font-size=\"14.00\">DiabetesPedigreeFunction &lt;= 0.672</text>\n<text text-anchor=\"middle\" x=\"210.5\" y=\"-126.8\" font-family=\"Helvetica,sans-Serif\" font-size=\"14.00\">samples = 131</text>\n<text text-anchor=\"middle\" x=\"210.5\" y=\"-111.8\" font-family=\"Helvetica,sans-Serif\" font-size=\"14.00\">value = [130, 1]</text>\n<text text-anchor=\"middle\" x=\"210.5\" y=\"-96.8\" font-family=\"Helvetica,sans-Serif\" font-size=\"14.00\">class = 0</text>\n</g>\n<!-- 2&#45;&gt;3 -->\n<g id=\"edge3\" class=\"edge\">\n<title>2&#45;&gt;3</title>\n<path fill=\"none\" stroke=\"black\" d=\"M400.48,-198.53C371.04,-186.98 336.34,-173.37 304.71,-160.96\"/>\n<polygon fill=\"black\" stroke=\"black\" points=\"305.59,-157.54 295,-157.15 303.03,-164.06 305.59,-157.54\"/>\n</g>\n<!-- 6 -->\n<g id=\"node7\" class=\"node\">\n<title>6</title>\n<polygon fill=\"#ea995e\" stroke=\"black\" points=\"560,-157 381,-157 381,-89 560,-89 560,-157\"/>\n<text text-anchor=\"middle\" x=\"470.5\" y=\"-141.8\" font-family=\"Helvetica,sans-Serif\" font-size=\"14.00\">BloodPressure &lt;= 54.0</text>\n<text text-anchor=\"middle\" x=\"470.5\" y=\"-126.8\" font-family=\"Helvetica,sans-Serif\" font-size=\"14.00\">samples = 95</text>\n<text text-anchor=\"middle\" x=\"470.5\" y=\"-111.8\" font-family=\"Helvetica,sans-Serif\" font-size=\"14.00\">value = [80, 15]</text>\n<text text-anchor=\"middle\" x=\"470.5\" y=\"-96.8\" font-family=\"Helvetica,sans-Serif\" font-size=\"14.00\">class = 0</text>\n</g>\n<!-- 2&#45;&gt;6 -->\n<g id=\"edge6\" class=\"edge\">\n<title>2&#45;&gt;6</title>\n<path fill=\"none\" stroke=\"black\" d=\"M470.5,-192.88C470.5,-184.78 470.5,-175.98 470.5,-167.47\"/>\n<polygon fill=\"black\" stroke=\"black\" points=\"474,-167.3 470.5,-157.3 467,-167.3 474,-167.3\"/>\n</g>\n<!-- 4 -->\n<g id=\"node5\" class=\"node\">\n<title>4</title>\n<polygon fill=\"#e58139\" stroke=\"black\" points=\"131,-53 0,-53 0,0 131,0 131,-53\"/>\n<text text-anchor=\"middle\" x=\"65.5\" y=\"-37.8\" font-family=\"Helvetica,sans-Serif\" font-size=\"14.00\">samples = 112</text>\n<text text-anchor=\"middle\" x=\"65.5\" y=\"-22.8\" font-family=\"Helvetica,sans-Serif\" font-size=\"14.00\">value = [112, 0]</text>\n<text text-anchor=\"middle\" x=\"65.5\" y=\"-7.8\" font-family=\"Helvetica,sans-Serif\" font-size=\"14.00\">class = 0</text>\n</g>\n<!-- 3&#45;&gt;4 -->\n<g id=\"edge4\" class=\"edge\">\n<title>3&#45;&gt;4</title>\n<path fill=\"none\" stroke=\"black\" d=\"M159.79,-88.95C144.77,-79.16 128.37,-68.48 113.53,-58.8\"/>\n<polygon fill=\"black\" stroke=\"black\" points=\"115.28,-55.76 104.99,-53.24 111.46,-61.63 115.28,-55.76\"/>\n</g>\n<!-- 5 -->\n<g id=\"node6\" class=\"node\">\n<title>5</title>\n<polygon fill=\"#e68844\" stroke=\"black\" points=\"271.5,-53 149.5,-53 149.5,0 271.5,0 271.5,-53\"/>\n<text text-anchor=\"middle\" x=\"210.5\" y=\"-37.8\" font-family=\"Helvetica,sans-Serif\" font-size=\"14.00\">samples = 19</text>\n<text text-anchor=\"middle\" x=\"210.5\" y=\"-22.8\" font-family=\"Helvetica,sans-Serif\" font-size=\"14.00\">value = [18, 1]</text>\n<text text-anchor=\"middle\" x=\"210.5\" y=\"-7.8\" font-family=\"Helvetica,sans-Serif\" font-size=\"14.00\">class = 0</text>\n</g>\n<!-- 3&#45;&gt;5 -->\n<g id=\"edge5\" class=\"edge\">\n<title>3&#45;&gt;5</title>\n<path fill=\"none\" stroke=\"black\" d=\"M210.5,-88.95C210.5,-80.72 210.5,-71.85 210.5,-63.48\"/>\n<polygon fill=\"black\" stroke=\"black\" points=\"214,-63.24 210.5,-53.24 207,-63.24 214,-63.24\"/>\n</g>\n<!-- 7 -->\n<g id=\"node8\" class=\"node\">\n<title>7</title>\n<polygon fill=\"#fae6d7\" stroke=\"black\" points=\"403,-53 290,-53 290,0 403,0 403,-53\"/>\n<text text-anchor=\"middle\" x=\"346.5\" y=\"-37.8\" font-family=\"Helvetica,sans-Serif\" font-size=\"14.00\">samples = 9</text>\n<text text-anchor=\"middle\" x=\"346.5\" y=\"-22.8\" font-family=\"Helvetica,sans-Serif\" font-size=\"14.00\">value = [5, 4]</text>\n<text text-anchor=\"middle\" x=\"346.5\" y=\"-7.8\" font-family=\"Helvetica,sans-Serif\" font-size=\"14.00\">class = 0</text>\n</g>\n<!-- 6&#45;&gt;7 -->\n<g id=\"edge7\" class=\"edge\">\n<title>6&#45;&gt;7</title>\n<path fill=\"none\" stroke=\"black\" d=\"M427.13,-88.95C414.53,-79.34 400.79,-68.87 388.29,-59.34\"/>\n<polygon fill=\"black\" stroke=\"black\" points=\"390.35,-56.51 380.27,-53.24 386.1,-62.08 390.35,-56.51\"/>\n</g>\n<!-- 8 -->\n<g id=\"node9\" class=\"node\">\n<title>8</title>\n<polygon fill=\"#e99356\" stroke=\"black\" points=\"552,-53 421,-53 421,0 552,0 552,-53\"/>\n<text text-anchor=\"middle\" x=\"486.5\" y=\"-37.8\" font-family=\"Helvetica,sans-Serif\" font-size=\"14.00\">samples = 86</text>\n<text text-anchor=\"middle\" x=\"486.5\" y=\"-22.8\" font-family=\"Helvetica,sans-Serif\" font-size=\"14.00\">value = [75, 11]</text>\n<text text-anchor=\"middle\" x=\"486.5\" y=\"-7.8\" font-family=\"Helvetica,sans-Serif\" font-size=\"14.00\">class = 0</text>\n</g>\n<!-- 6&#45;&gt;8 -->\n<g id=\"edge8\" class=\"edge\">\n<title>6&#45;&gt;8</title>\n<path fill=\"none\" stroke=\"black\" d=\"M476.1,-88.95C477.51,-80.62 479.02,-71.65 480.46,-63.2\"/>\n<polygon fill=\"black\" stroke=\"black\" points=\"483.92,-63.68 482.14,-53.24 477.02,-62.51 483.92,-63.68\"/>\n</g>\n<!-- 10 -->\n<g id=\"node11\" class=\"node\">\n<title>10</title>\n<polygon fill=\"#e78945\" stroke=\"black\" points=\"788.5,-157 666.5,-157 666.5,-89 788.5,-89 788.5,-157\"/>\n<text text-anchor=\"middle\" x=\"727.5\" y=\"-141.8\" font-family=\"Helvetica,sans-Serif\" font-size=\"14.00\">BMI &lt;= 9.65</text>\n<text text-anchor=\"middle\" x=\"727.5\" y=\"-126.8\" font-family=\"Helvetica,sans-Serif\" font-size=\"14.00\">samples = 34</text>\n<text text-anchor=\"middle\" x=\"727.5\" y=\"-111.8\" font-family=\"Helvetica,sans-Serif\" font-size=\"14.00\">value = [32, 2]</text>\n<text text-anchor=\"middle\" x=\"727.5\" y=\"-96.8\" font-family=\"Helvetica,sans-Serif\" font-size=\"14.00\">class = 0</text>\n</g>\n<!-- 9&#45;&gt;10 -->\n<g id=\"edge10\" class=\"edge\">\n<title>9&#45;&gt;10</title>\n<path fill=\"none\" stroke=\"black\" d=\"M799.76,-192.88C790.23,-183.8 779.79,-173.85 769.88,-164.4\"/>\n<polygon fill=\"black\" stroke=\"black\" points=\"772.08,-161.67 762.43,-157.3 767.25,-166.73 772.08,-161.67\"/>\n</g>\n<!-- 13 -->\n<g id=\"node14\" class=\"node\">\n<title>13</title>\n<polygon fill=\"#f7dac5\" stroke=\"black\" points=\"1076.5,-157 806.5,-157 806.5,-89 1076.5,-89 1076.5,-157\"/>\n<text text-anchor=\"middle\" x=\"941.5\" y=\"-141.8\" font-family=\"Helvetica,sans-Serif\" font-size=\"14.00\">DiabetesPedigreeFunction &lt;= 0.625</text>\n<text text-anchor=\"middle\" x=\"941.5\" y=\"-126.8\" font-family=\"Helvetica,sans-Serif\" font-size=\"14.00\">samples = 135</text>\n<text text-anchor=\"middle\" x=\"941.5\" y=\"-111.8\" font-family=\"Helvetica,sans-Serif\" font-size=\"14.00\">value = [79, 56]</text>\n<text text-anchor=\"middle\" x=\"941.5\" y=\"-96.8\" font-family=\"Helvetica,sans-Serif\" font-size=\"14.00\">class = 0</text>\n</g>\n<!-- 9&#45;&gt;13 -->\n<g id=\"edge13\" class=\"edge\">\n<title>9&#45;&gt;13</title>\n<path fill=\"none\" stroke=\"black\" d=\"M869.24,-192.88C878.77,-183.8 889.21,-173.85 899.12,-164.4\"/>\n<polygon fill=\"black\" stroke=\"black\" points=\"901.75,-166.73 906.57,-157.3 896.92,-161.67 901.75,-166.73\"/>\n</g>\n<!-- 11 -->\n<g id=\"node12\" class=\"node\">\n<title>11</title>\n<polygon fill=\"#399de5\" stroke=\"black\" points=\"683,-53 570,-53 570,0 683,0 683,-53\"/>\n<text text-anchor=\"middle\" x=\"626.5\" y=\"-37.8\" font-family=\"Helvetica,sans-Serif\" font-size=\"14.00\">samples = 2</text>\n<text text-anchor=\"middle\" x=\"626.5\" y=\"-22.8\" font-family=\"Helvetica,sans-Serif\" font-size=\"14.00\">value = [0, 2]</text>\n<text text-anchor=\"middle\" x=\"626.5\" y=\"-7.8\" font-family=\"Helvetica,sans-Serif\" font-size=\"14.00\">class = 1</text>\n</g>\n<!-- 10&#45;&gt;11 -->\n<g id=\"edge11\" class=\"edge\">\n<title>10&#45;&gt;11</title>\n<path fill=\"none\" stroke=\"black\" d=\"M692.18,-88.95C682.2,-79.62 671.36,-69.47 661.41,-60.16\"/>\n<polygon fill=\"black\" stroke=\"black\" points=\"663.7,-57.51 654.01,-53.24 658.92,-62.62 663.7,-57.51\"/>\n</g>\n<!-- 12 -->\n<g id=\"node13\" class=\"node\">\n<title>12</title>\n<polygon fill=\"#e58139\" stroke=\"black\" points=\"823.5,-53 701.5,-53 701.5,0 823.5,0 823.5,-53\"/>\n<text text-anchor=\"middle\" x=\"762.5\" y=\"-37.8\" font-family=\"Helvetica,sans-Serif\" font-size=\"14.00\">samples = 32</text>\n<text text-anchor=\"middle\" x=\"762.5\" y=\"-22.8\" font-family=\"Helvetica,sans-Serif\" font-size=\"14.00\">value = [32, 0]</text>\n<text text-anchor=\"middle\" x=\"762.5\" y=\"-7.8\" font-family=\"Helvetica,sans-Serif\" font-size=\"14.00\">class = 0</text>\n</g>\n<!-- 10&#45;&gt;12 -->\n<g id=\"edge12\" class=\"edge\">\n<title>10&#45;&gt;12</title>\n<path fill=\"none\" stroke=\"black\" d=\"M739.74,-88.95C742.89,-80.44 746.29,-71.26 749.48,-62.65\"/>\n<polygon fill=\"black\" stroke=\"black\" points=\"752.78,-63.83 752.97,-53.24 746.21,-61.4 752.78,-63.83\"/>\n</g>\n<!-- 14 -->\n<g id=\"node15\" class=\"node\">\n<title>14</title>\n<polygon fill=\"#f1bd98\" stroke=\"black\" points=\"973,-53 842,-53 842,0 973,0 973,-53\"/>\n<text text-anchor=\"middle\" x=\"907.5\" y=\"-37.8\" font-family=\"Helvetica,sans-Serif\" font-size=\"14.00\">samples = 99</text>\n<text text-anchor=\"middle\" x=\"907.5\" y=\"-22.8\" font-family=\"Helvetica,sans-Serif\" font-size=\"14.00\">value = [67, 32]</text>\n<text text-anchor=\"middle\" x=\"907.5\" y=\"-7.8\" font-family=\"Helvetica,sans-Serif\" font-size=\"14.00\">class = 0</text>\n</g>\n<!-- 13&#45;&gt;14 -->\n<g id=\"edge14\" class=\"edge\">\n<title>13&#45;&gt;14</title>\n<path fill=\"none\" stroke=\"black\" d=\"M929.61,-88.95C926.55,-80.44 923.24,-71.26 920.15,-62.65\"/>\n<polygon fill=\"black\" stroke=\"black\" points=\"923.44,-61.46 916.76,-53.24 916.85,-63.83 923.44,-61.46\"/>\n</g>\n<!-- 15 -->\n<g id=\"node16\" class=\"node\">\n<title>15</title>\n<polygon fill=\"#9ccef2\" stroke=\"black\" points=\"1122,-53 991,-53 991,0 1122,0 1122,-53\"/>\n<text text-anchor=\"middle\" x=\"1056.5\" y=\"-37.8\" font-family=\"Helvetica,sans-Serif\" font-size=\"14.00\">samples = 36</text>\n<text text-anchor=\"middle\" x=\"1056.5\" y=\"-22.8\" font-family=\"Helvetica,sans-Serif\" font-size=\"14.00\">value = [12, 24]</text>\n<text text-anchor=\"middle\" x=\"1056.5\" y=\"-7.8\" font-family=\"Helvetica,sans-Serif\" font-size=\"14.00\">class = 1</text>\n</g>\n<!-- 13&#45;&gt;15 -->\n<g id=\"edge15\" class=\"edge\">\n<title>13&#45;&gt;15</title>\n<path fill=\"none\" stroke=\"black\" d=\"M981.72,-88.95C993.3,-79.43 1005.91,-69.07 1017.42,-59.62\"/>\n<polygon fill=\"black\" stroke=\"black\" points=\"1019.68,-62.29 1025.18,-53.24 1015.23,-56.88 1019.68,-62.29\"/>\n</g>\n<!-- 17 -->\n<g id=\"node18\" class=\"node\">\n<title>17</title>\n<polygon fill=\"#f0b78e\" stroke=\"black\" points=\"1475,-261 1330,-261 1330,-193 1475,-193 1475,-261\"/>\n<text text-anchor=\"middle\" x=\"1402.5\" y=\"-245.8\" font-family=\"Helvetica,sans-Serif\" font-size=\"14.00\">Glucose &lt;= 145.5</text>\n<text text-anchor=\"middle\" x=\"1402.5\" y=\"-230.8\" font-family=\"Helvetica,sans-Serif\" font-size=\"14.00\">samples = 60</text>\n<text text-anchor=\"middle\" x=\"1402.5\" y=\"-215.8\" font-family=\"Helvetica,sans-Serif\" font-size=\"14.00\">value = [42, 18]</text>\n<text text-anchor=\"middle\" x=\"1402.5\" y=\"-200.8\" font-family=\"Helvetica,sans-Serif\" font-size=\"14.00\">class = 0</text>\n</g>\n<!-- 16&#45;&gt;17 -->\n<g id=\"edge17\" class=\"edge\">\n<title>16&#45;&gt;17</title>\n<path fill=\"none\" stroke=\"black\" d=\"M1402.5,-296.88C1402.5,-288.78 1402.5,-279.98 1402.5,-271.47\"/>\n<polygon fill=\"black\" stroke=\"black\" points=\"1406,-271.3 1402.5,-261.3 1399,-271.3 1406,-271.3\"/>\n</g>\n<!-- 24 -->\n<g id=\"node25\" class=\"node\">\n<title>24</title>\n<polygon fill=\"#87c4ef\" stroke=\"black\" points=\"1840,-261 1695,-261 1695,-193 1840,-193 1840,-261\"/>\n<text text-anchor=\"middle\" x=\"1767.5\" y=\"-245.8\" font-family=\"Helvetica,sans-Serif\" font-size=\"14.00\">Glucose &lt;= 165.5</text>\n<text text-anchor=\"middle\" x=\"1767.5\" y=\"-230.8\" font-family=\"Helvetica,sans-Serif\" font-size=\"14.00\">samples = 159</text>\n<text text-anchor=\"middle\" x=\"1767.5\" y=\"-215.8\" font-family=\"Helvetica,sans-Serif\" font-size=\"14.00\">value = [45, 114]</text>\n<text text-anchor=\"middle\" x=\"1767.5\" y=\"-200.8\" font-family=\"Helvetica,sans-Serif\" font-size=\"14.00\">class = 1</text>\n</g>\n<!-- 16&#45;&gt;24 -->\n<g id=\"edge24\" class=\"edge\">\n<title>16&#45;&gt;24</title>\n<path fill=\"none\" stroke=\"black\" d=\"M1472.88,-310.33C1533.56,-293.37 1621.26,-268.87 1685.19,-251\"/>\n<polygon fill=\"black\" stroke=\"black\" points=\"1686.15,-254.37 1694.84,-248.3 1684.27,-247.63 1686.15,-254.37\"/>\n</g>\n<!-- 18 -->\n<g id=\"node19\" class=\"node\">\n<title>18</title>\n<polygon fill=\"#e9975b\" stroke=\"black\" points=\"1391.5,-157 1269.5,-157 1269.5,-89 1391.5,-89 1391.5,-157\"/>\n<text text-anchor=\"middle\" x=\"1330.5\" y=\"-141.8\" font-family=\"Helvetica,sans-Serif\" font-size=\"14.00\">BMI &lt;= 28.85</text>\n<text text-anchor=\"middle\" x=\"1330.5\" y=\"-126.8\" font-family=\"Helvetica,sans-Serif\" font-size=\"14.00\">samples = 34</text>\n<text text-anchor=\"middle\" x=\"1330.5\" y=\"-111.8\" font-family=\"Helvetica,sans-Serif\" font-size=\"14.00\">value = [29, 5]</text>\n<text text-anchor=\"middle\" x=\"1330.5\" y=\"-96.8\" font-family=\"Helvetica,sans-Serif\" font-size=\"14.00\">class = 0</text>\n</g>\n<!-- 17&#45;&gt;18 -->\n<g id=\"edge18\" class=\"edge\">\n<title>17&#45;&gt;18</title>\n<path fill=\"none\" stroke=\"black\" d=\"M1379.12,-192.88C1372.96,-184.15 1366.24,-174.62 1359.8,-165.51\"/>\n<polygon fill=\"black\" stroke=\"black\" points=\"1362.63,-163.45 1354.01,-157.3 1356.91,-167.49 1362.63,-163.45\"/>\n</g>\n<!-- 21 -->\n<g id=\"node22\" class=\"node\">\n<title>21</title>\n<polygon fill=\"#ffffff\" stroke=\"black\" points=\"1541,-157 1410,-157 1410,-89 1541,-89 1541,-157\"/>\n<text text-anchor=\"middle\" x=\"1475.5\" y=\"-141.8\" font-family=\"Helvetica,sans-Serif\" font-size=\"14.00\">Age &lt;= 25.5</text>\n<text text-anchor=\"middle\" x=\"1475.5\" y=\"-126.8\" font-family=\"Helvetica,sans-Serif\" font-size=\"14.00\">samples = 26</text>\n<text text-anchor=\"middle\" x=\"1475.5\" y=\"-111.8\" font-family=\"Helvetica,sans-Serif\" font-size=\"14.00\">value = [13, 13]</text>\n<text text-anchor=\"middle\" x=\"1475.5\" y=\"-96.8\" font-family=\"Helvetica,sans-Serif\" font-size=\"14.00\">class = 0</text>\n</g>\n<!-- 17&#45;&gt;21 -->\n<g id=\"edge21\" class=\"edge\">\n<title>17&#45;&gt;21</title>\n<path fill=\"none\" stroke=\"black\" d=\"M1426.2,-192.88C1432.45,-184.15 1439.27,-174.62 1445.79,-165.51\"/>\n<polygon fill=\"black\" stroke=\"black\" points=\"1448.69,-167.47 1451.67,-157.3 1443,-163.39 1448.69,-167.47\"/>\n</g>\n<!-- 19 -->\n<g id=\"node20\" class=\"node\">\n<title>19</title>\n<polygon fill=\"#e99254\" stroke=\"black\" points=\"1262.5,-53 1140.5,-53 1140.5,0 1262.5,0 1262.5,-53\"/>\n<text text-anchor=\"middle\" x=\"1201.5\" y=\"-37.8\" font-family=\"Helvetica,sans-Serif\" font-size=\"14.00\">samples = 33</text>\n<text text-anchor=\"middle\" x=\"1201.5\" y=\"-22.8\" font-family=\"Helvetica,sans-Serif\" font-size=\"14.00\">value = [29, 4]</text>\n<text text-anchor=\"middle\" x=\"1201.5\" y=\"-7.8\" font-family=\"Helvetica,sans-Serif\" font-size=\"14.00\">class = 0</text>\n</g>\n<!-- 18&#45;&gt;19 -->\n<g id=\"edge19\" class=\"edge\">\n<title>18&#45;&gt;19</title>\n<path fill=\"none\" stroke=\"black\" d=\"M1285.38,-88.95C1272.27,-79.34 1257.98,-68.87 1244.97,-59.34\"/>\n<polygon fill=\"black\" stroke=\"black\" points=\"1246.77,-56.32 1236.63,-53.24 1242.63,-61.97 1246.77,-56.32\"/>\n</g>\n<!-- 20 -->\n<g id=\"node21\" class=\"node\">\n<title>20</title>\n<polygon fill=\"#399de5\" stroke=\"black\" points=\"1394,-53 1281,-53 1281,0 1394,0 1394,-53\"/>\n<text text-anchor=\"middle\" x=\"1337.5\" y=\"-37.8\" font-family=\"Helvetica,sans-Serif\" font-size=\"14.00\">samples = 1</text>\n<text text-anchor=\"middle\" x=\"1337.5\" y=\"-22.8\" font-family=\"Helvetica,sans-Serif\" font-size=\"14.00\">value = [0, 1]</text>\n<text text-anchor=\"middle\" x=\"1337.5\" y=\"-7.8\" font-family=\"Helvetica,sans-Serif\" font-size=\"14.00\">class = 1</text>\n</g>\n<!-- 18&#45;&gt;20 -->\n<g id=\"edge20\" class=\"edge\">\n<title>18&#45;&gt;20</title>\n<path fill=\"none\" stroke=\"black\" d=\"M1332.95,-88.95C1333.56,-80.72 1334.21,-71.85 1334.83,-63.48\"/>\n<polygon fill=\"black\" stroke=\"black\" points=\"1338.35,-63.47 1335.59,-53.24 1331.36,-62.95 1338.35,-63.47\"/>\n</g>\n<!-- 22 -->\n<g id=\"node23\" class=\"node\">\n<title>22</title>\n<polygon fill=\"#e58139\" stroke=\"black\" points=\"1525,-53 1412,-53 1412,0 1525,0 1525,-53\"/>\n<text text-anchor=\"middle\" x=\"1468.5\" y=\"-37.8\" font-family=\"Helvetica,sans-Serif\" font-size=\"14.00\">samples = 4</text>\n<text text-anchor=\"middle\" x=\"1468.5\" y=\"-22.8\" font-family=\"Helvetica,sans-Serif\" font-size=\"14.00\">value = [4, 0]</text>\n<text text-anchor=\"middle\" x=\"1468.5\" y=\"-7.8\" font-family=\"Helvetica,sans-Serif\" font-size=\"14.00\">class = 0</text>\n</g>\n<!-- 21&#45;&gt;22 -->\n<g id=\"edge22\" class=\"edge\">\n<title>21&#45;&gt;22</title>\n<path fill=\"none\" stroke=\"black\" d=\"M1473.05,-88.95C1472.44,-80.72 1471.79,-71.85 1471.17,-63.48\"/>\n<polygon fill=\"black\" stroke=\"black\" points=\"1474.64,-62.95 1470.41,-53.24 1467.65,-63.47 1474.64,-62.95\"/>\n</g>\n<!-- 23 -->\n<g id=\"node24\" class=\"node\">\n<title>23</title>\n<polygon fill=\"#c2e1f7\" stroke=\"black\" points=\"1665.5,-53 1543.5,-53 1543.5,0 1665.5,0 1665.5,-53\"/>\n<text text-anchor=\"middle\" x=\"1604.5\" y=\"-37.8\" font-family=\"Helvetica,sans-Serif\" font-size=\"14.00\">samples = 22</text>\n<text text-anchor=\"middle\" x=\"1604.5\" y=\"-22.8\" font-family=\"Helvetica,sans-Serif\" font-size=\"14.00\">value = [9, 13]</text>\n<text text-anchor=\"middle\" x=\"1604.5\" y=\"-7.8\" font-family=\"Helvetica,sans-Serif\" font-size=\"14.00\">class = 1</text>\n</g>\n<!-- 21&#45;&gt;23 -->\n<g id=\"edge23\" class=\"edge\">\n<title>21&#45;&gt;23</title>\n<path fill=\"none\" stroke=\"black\" d=\"M1520.62,-88.95C1533.73,-79.34 1548.02,-68.87 1561.03,-59.34\"/>\n<polygon fill=\"black\" stroke=\"black\" points=\"1563.37,-61.97 1569.37,-53.24 1559.23,-56.32 1563.37,-61.97\"/>\n</g>\n<!-- 25 -->\n<g id=\"node26\" class=\"node\">\n<title>25</title>\n<polygon fill=\"#abd6f4\" stroke=\"black\" points=\"1857,-157 1678,-157 1678,-89 1857,-89 1857,-157\"/>\n<text text-anchor=\"middle\" x=\"1767.5\" y=\"-141.8\" font-family=\"Helvetica,sans-Serif\" font-size=\"14.00\">BloodPressure &lt;= 61.0</text>\n<text text-anchor=\"middle\" x=\"1767.5\" y=\"-126.8\" font-family=\"Helvetica,sans-Serif\" font-size=\"14.00\">samples = 112</text>\n<text text-anchor=\"middle\" x=\"1767.5\" y=\"-111.8\" font-family=\"Helvetica,sans-Serif\" font-size=\"14.00\">value = [41, 71]</text>\n<text text-anchor=\"middle\" x=\"1767.5\" y=\"-96.8\" font-family=\"Helvetica,sans-Serif\" font-size=\"14.00\">class = 1</text>\n</g>\n<!-- 24&#45;&gt;25 -->\n<g id=\"edge25\" class=\"edge\">\n<title>24&#45;&gt;25</title>\n<path fill=\"none\" stroke=\"black\" d=\"M1767.5,-192.88C1767.5,-184.78 1767.5,-175.98 1767.5,-167.47\"/>\n<polygon fill=\"black\" stroke=\"black\" points=\"1771,-167.3 1767.5,-157.3 1764,-167.3 1771,-167.3\"/>\n</g>\n<!-- 28 -->\n<g id=\"node29\" class=\"node\">\n<title>28</title>\n<polygon fill=\"#4ba6e7\" stroke=\"black\" points=\"2169.5,-157 1899.5,-157 1899.5,-89 2169.5,-89 2169.5,-157\"/>\n<text text-anchor=\"middle\" x=\"2034.5\" y=\"-141.8\" font-family=\"Helvetica,sans-Serif\" font-size=\"14.00\">DiabetesPedigreeFunction &lt;= 1.428</text>\n<text text-anchor=\"middle\" x=\"2034.5\" y=\"-126.8\" font-family=\"Helvetica,sans-Serif\" font-size=\"14.00\">samples = 47</text>\n<text text-anchor=\"middle\" x=\"2034.5\" y=\"-111.8\" font-family=\"Helvetica,sans-Serif\" font-size=\"14.00\">value = [4, 43]</text>\n<text text-anchor=\"middle\" x=\"2034.5\" y=\"-96.8\" font-family=\"Helvetica,sans-Serif\" font-size=\"14.00\">class = 1</text>\n</g>\n<!-- 24&#45;&gt;28 -->\n<g id=\"edge28\" class=\"edge\">\n<title>24&#45;&gt;28</title>\n<path fill=\"none\" stroke=\"black\" d=\"M1840.11,-198.26C1870.32,-186.72 1905.84,-173.15 1938.19,-160.79\"/>\n<polygon fill=\"black\" stroke=\"black\" points=\"1939.58,-164.01 1947.67,-157.17 1937.08,-157.47 1939.58,-164.01\"/>\n</g>\n<!-- 26 -->\n<g id=\"node27\" class=\"node\">\n<title>26</title>\n<polygon fill=\"#47a4e7\" stroke=\"black\" points=\"1805.5,-53 1683.5,-53 1683.5,0 1805.5,0 1805.5,-53\"/>\n<text text-anchor=\"middle\" x=\"1744.5\" y=\"-37.8\" font-family=\"Helvetica,sans-Serif\" font-size=\"14.00\">samples = 15</text>\n<text text-anchor=\"middle\" x=\"1744.5\" y=\"-22.8\" font-family=\"Helvetica,sans-Serif\" font-size=\"14.00\">value = [1, 14]</text>\n<text text-anchor=\"middle\" x=\"1744.5\" y=\"-7.8\" font-family=\"Helvetica,sans-Serif\" font-size=\"14.00\">class = 1</text>\n</g>\n<!-- 25&#45;&gt;26 -->\n<g id=\"edge26\" class=\"edge\">\n<title>25&#45;&gt;26</title>\n<path fill=\"none\" stroke=\"black\" d=\"M1759.46,-88.95C1757.43,-80.62 1755.25,-71.65 1753.19,-63.2\"/>\n<polygon fill=\"black\" stroke=\"black\" points=\"1756.53,-62.13 1750.76,-53.24 1749.73,-63.78 1756.53,-62.13\"/>\n</g>\n<!-- 27 -->\n<g id=\"node28\" class=\"node\">\n<title>27</title>\n<polygon fill=\"#c4e2f7\" stroke=\"black\" points=\"1955,-53 1824,-53 1824,0 1955,0 1955,-53\"/>\n<text text-anchor=\"middle\" x=\"1889.5\" y=\"-37.8\" font-family=\"Helvetica,sans-Serif\" font-size=\"14.00\">samples = 97</text>\n<text text-anchor=\"middle\" x=\"1889.5\" y=\"-22.8\" font-family=\"Helvetica,sans-Serif\" font-size=\"14.00\">value = [40, 57]</text>\n<text text-anchor=\"middle\" x=\"1889.5\" y=\"-7.8\" font-family=\"Helvetica,sans-Serif\" font-size=\"14.00\">class = 1</text>\n</g>\n<!-- 25&#45;&gt;27 -->\n<g id=\"edge27\" class=\"edge\">\n<title>25&#45;&gt;27</title>\n<path fill=\"none\" stroke=\"black\" d=\"M1810.17,-88.95C1822.45,-79.43 1835.83,-69.07 1848.04,-59.62\"/>\n<polygon fill=\"black\" stroke=\"black\" points=\"1850.51,-62.13 1856.27,-53.24 1846.22,-56.59 1850.51,-62.13\"/>\n</g>\n<!-- 29 -->\n<g id=\"node30\" class=\"node\">\n<title>29</title>\n<polygon fill=\"#42a2e6\" stroke=\"black\" points=\"2095.5,-53 1973.5,-53 1973.5,0 2095.5,0 2095.5,-53\"/>\n<text text-anchor=\"middle\" x=\"2034.5\" y=\"-37.8\" font-family=\"Helvetica,sans-Serif\" font-size=\"14.00\">samples = 44</text>\n<text text-anchor=\"middle\" x=\"2034.5\" y=\"-22.8\" font-family=\"Helvetica,sans-Serif\" font-size=\"14.00\">value = [2, 42]</text>\n<text text-anchor=\"middle\" x=\"2034.5\" y=\"-7.8\" font-family=\"Helvetica,sans-Serif\" font-size=\"14.00\">class = 1</text>\n</g>\n<!-- 28&#45;&gt;29 -->\n<g id=\"edge29\" class=\"edge\">\n<title>28&#45;&gt;29</title>\n<path fill=\"none\" stroke=\"black\" d=\"M2034.5,-88.95C2034.5,-80.72 2034.5,-71.85 2034.5,-63.48\"/>\n<polygon fill=\"black\" stroke=\"black\" points=\"2038,-63.24 2034.5,-53.24 2031,-63.24 2038,-63.24\"/>\n</g>\n<!-- 30 -->\n<g id=\"node31\" class=\"node\">\n<title>30</title>\n<polygon fill=\"#f2c09c\" stroke=\"black\" points=\"2227,-53 2114,-53 2114,0 2227,0 2227,-53\"/>\n<text text-anchor=\"middle\" x=\"2170.5\" y=\"-37.8\" font-family=\"Helvetica,sans-Serif\" font-size=\"14.00\">samples = 3</text>\n<text text-anchor=\"middle\" x=\"2170.5\" y=\"-22.8\" font-family=\"Helvetica,sans-Serif\" font-size=\"14.00\">value = [2, 1]</text>\n<text text-anchor=\"middle\" x=\"2170.5\" y=\"-7.8\" font-family=\"Helvetica,sans-Serif\" font-size=\"14.00\">class = 0</text>\n</g>\n<!-- 28&#45;&gt;30 -->\n<g id=\"edge30\" class=\"edge\">\n<title>28&#45;&gt;30</title>\n<path fill=\"none\" stroke=\"black\" d=\"M2082.07,-88.95C2096.02,-79.25 2111.24,-68.68 2125.06,-59.07\"/>\n<polygon fill=\"black\" stroke=\"black\" points=\"2127.25,-61.82 2133.46,-53.24 2123.25,-56.07 2127.25,-61.82\"/>\n</g>\n</g>\n</svg>\n",
      "text/plain": [
       "<graphviz.sources.Source at 0x7f02829f04d0>"
      ]
     },
     "execution_count": 54,
     "metadata": {},
     "output_type": "execute_result"
    }
   ],
   "execution_count": 54
  },
  {
   "metadata": {},
   "cell_type": "markdown",
   "source": "![Decision Tree](tree.png)",
   "id": "6dc70d0d328d6a8"
  },
  {
   "metadata": {},
   "cell_type": "code",
   "outputs": [],
   "execution_count": null,
   "source": "",
   "id": "2eaea38cf47dbbd4"
  }
 ],
 "metadata": {
  "kernelspec": {
   "display_name": "Python 3",
   "language": "python",
   "name": "python3"
  },
  "language_info": {
   "codemirror_mode": {
    "name": "ipython",
    "version": 2
   },
   "file_extension": ".py",
   "mimetype": "text/x-python",
   "name": "python",
   "nbconvert_exporter": "python",
   "pygments_lexer": "ipython2",
   "version": "2.7.6"
  }
 },
 "nbformat": 4,
 "nbformat_minor": 5
}
