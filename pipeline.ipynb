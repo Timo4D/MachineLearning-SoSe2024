{
 "cells": [
  {
   "cell_type": "code",
   "id": "initial_id",
   "metadata": {
    "collapsed": true,
    "ExecuteTime": {
     "end_time": "2024-06-28T14:01:07.291154Z",
     "start_time": "2024-06-28T14:01:04.800667Z"
    }
   },
   "source": [
    "import pandas as pd\n",
    "import numpy as np\n",
    "import matplotlib.pyplot as plt\n",
    "from sklearn.model_selection import train_test_split, GridSearchCV\n",
    "from sklearn.tree import DecisionTreeClassifier\n",
    "from sklearn.metrics import accuracy_score, confusion_matrix, classification_report\n",
    "from sklearn.pipeline import Pipeline\n",
    "from sklearn.feature_selection import SelectKBest, f_classif"
   ],
   "execution_count": 2,
   "outputs": []
  },
  {
   "metadata": {
    "ExecuteTime": {
     "end_time": "2024-06-28T14:01:07.317502Z",
     "start_time": "2024-06-28T14:01:07.292159Z"
    }
   },
   "cell_type": "code",
   "source": [
    "data = pd.read_csv('diabetes.csv')\n",
    "data.head()"
   ],
   "id": "edd7fbd92da5304d",
   "execution_count": 3,
   "outputs": []
  },
  {
   "metadata": {
    "ExecuteTime": {
     "end_time": "2024-06-28T14:01:09.854820Z",
     "start_time": "2024-06-28T14:01:07.318006Z"
    }
   },
   "cell_type": "code",
   "source": [
    "X = data.drop('Outcome', axis=1)\n",
    "y = data['Outcome']\n",
    "\n",
    "X_train, X_test, y_train, y_test = train_test_split(X, y, test_size=0.2, random_state=0)\n",
    "\n",
    "pipeline = Pipeline([\n",
    "    ('selector', SelectKBest(f_classif)),\n",
    "    ('classifier', DecisionTreeClassifier())\n",
    "])\n",
    "\n",
    "parameters = {\n",
    "    'selector__k': [1, 2, 3, 4, 5, 6, 7, 8],\n",
    "    'classifier__max_depth': [None, 5, 10, 15, 20, 25, 30]\n",
    "}\n",
    "\n",
    "\n",
    "\n",
    "grid_search = GridSearchCV(pipeline, parameters, n_jobs=-1, cv=5, verbose=1)\n",
    "grid_search.fit(X_train, y_train)\n",
    "\n",
    "best_params = grid_search.best_params_\n",
    "best_score = grid_search.best_score_\n",
    "selected_features = grid_search.best_estimator_.named_steps['feature_selection'].get_support(indices=True)\n",
    "selected_feature_names = X.columns[selected_features]\n",
    "\n",
    "# Train the model with the best parameters\n",
    "feature_importances = grid_search.best_estimator_.named_steps['classifier'].feature_importances_\n",
    "optimized_pipeline = grid_search.best_estimator_\n",
    "optimized_pipeline.fit(X_train, y_train)\n",
    "\n",
    "feature_importance_df = pd.DataFrame({'Feature': selected_feature_names, 'Importance': feature_importances})\n",
    "feature_importance_df = feature_importance_df.sort_values(by='Importance', ascending=False)\n",
    "\n",
    "# Predict on the test set\n",
    "y_pred_optimized = optimized_pipeline.predict(X_test)\n",
    "\n",
    "# Evaluate the optimized classifier\n",
    "accuracy_optimized = accuracy_score(y_test, y_pred_optimized)\n",
    "class_report_optimized = classification_report(y_test, y_pred_optimized)\n",
    "conf_matrix_optimized = confusion_matrix(y_test, y_pred_optimized)\n",
    "\n",
    "# Print results\n",
    "print(\"Best Parameters:\", best_params)\n",
    "print(\"Best Cross-validation Score:\", best_score)\n",
    "print(\"Test Accuracy:\", accuracy_optimized)\n",
    "print(\"Classification Report:\\n\", class_report_optimized)\n",
    "print(\"Confusion Matrix:\\n\", conf_matrix_optimized)\n",
    "print(feature_importance_df)"
   ],
   "id": "2e6fd18293f6340b",
   "execution_count": 4,
   "outputs": []
  },
  {
   "metadata": {
    "ExecuteTime": {
     "end_time": "2024-06-28T14:01:09.855824Z",
     "start_time": "2024-06-28T14:01:09.855325Z"
    }
   },
   "cell_type": "code",
   "source": [
    "feature_importances = optimized_pipeline\n",
    "\n",
    "feature_names = X_train.columns\n",
    "\n",
    "# Create a bar plot for feature importances\n",
    "plt.figure(figsize=(10, 6))\n",
    "plt.barh(np.arange(len(feature_names)), feature_importances, align='center')\n",
    "plt.yticks(np.arange(len(feature_names)), feature_names)\n",
    "plt.xlabel('Feature Importance')\n",
    "plt.ylabel('Feature')\n",
    "plt.title('Feature Importances in Decision Tree')\n",
    "plt.show()\n",
    "\n",
    "# Print feature importances\n",
    "for feature, importance in zip(feature_names, feature_importances):\n",
    "    print(f\"Feature: {feature}, Importance: {importance:.3f}\")\n"
   ],
   "id": "45c02f000185be71",
   "execution_count": null,
   "outputs": []
  },
  {
   "metadata": {
    "ExecuteTime": {
     "end_time": "2024-06-28T14:01:09.856325Z",
     "start_time": "2024-06-28T14:01:09.856325Z"
    }
   },
   "cell_type": "code",
   "source": "",
   "id": "9354628ef40a5675",
   "execution_count": null,
   "outputs": []
  }
 ],
 "metadata": {
  "kernelspec": {
   "display_name": "Python 3",
   "language": "python",
   "name": "python3"
  },
  "language_info": {
   "codemirror_mode": {
    "name": "ipython",
    "version": 2
   },
   "file_extension": ".py",
   "mimetype": "text/x-python",
   "name": "python",
   "nbconvert_exporter": "python",
   "pygments_lexer": "ipython2",
   "version": "2.7.6"
  }
 },
 "nbformat": 4,
 "nbformat_minor": 5
}
